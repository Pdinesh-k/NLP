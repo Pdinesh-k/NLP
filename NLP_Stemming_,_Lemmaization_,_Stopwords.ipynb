{
  "nbformat": 4,
  "nbformat_minor": 0,
  "metadata": {
    "colab": {
      "provenance": []
    },
    "kernelspec": {
      "name": "python3",
      "display_name": "Python 3"
    },
    "language_info": {
      "name": "python"
    }
  },
  "cells": [
    {
      "cell_type": "code",
      "execution_count": null,
      "metadata": {
        "colab": {
          "base_uri": "https://localhost:8080/"
        },
        "id": "oNOml5-Qso4h",
        "outputId": "309f68bd-974e-446a-a074-941d3976fded"
      },
      "outputs": [
        {
          "output_type": "stream",
          "name": "stdout",
          "text": [
            "Requirement already satisfied: nltk in /usr/local/lib/python3.10/dist-packages (3.8.1)\n",
            "Requirement already satisfied: click in /usr/local/lib/python3.10/dist-packages (from nltk) (8.1.7)\n",
            "Requirement already satisfied: joblib in /usr/local/lib/python3.10/dist-packages (from nltk) (1.4.0)\n",
            "Requirement already satisfied: regex>=2021.8.3 in /usr/local/lib/python3.10/dist-packages (from nltk) (2023.12.25)\n",
            "Requirement already satisfied: tqdm in /usr/local/lib/python3.10/dist-packages (from nltk) (4.66.2)\n"
          ]
        }
      ],
      "source": [
        "!pip install nltk"
      ]
    },
    {
      "cell_type": "code",
      "source": [
        "paragraph = '''\n",
        "Chennai Super Kings (CSK) is an Indian professional cricket franchise based in Chennai, Tamil Nadu.\n",
        "The team competes in the Indian Premier League (IPL) and was one of the eight franchises incorporated when the league was established in 2008.\n",
        "The team plays its home matches at the M. A. Chidambaram Stadium in Chennai and is owned by Chennai Super Kings Cricket Limited.\n",
        "Super Kings is the joint-most successful IPL franchise having won five IPL titles (shared with Mumbai Indians).\n",
        "In the IPL, they have appeared in a record 10 finals and qualified for the playoff stages 12 times out of the 14 seasons they have played, more than any other team.\n",
        " Super Kings have also won the Champions League Twenty20 twice in 2010 and 2014.\n",
        " The team is currently captained by Ruturaj Gaikwad and coached by Stephen Fleming.\n",
        " The team was suspended for two years from the IPL starting July 2015 due to the involvement of its owners in the 2013 IPL betting case.\n",
        " Super Kings re-joined IPL for the 2018 season and won the title in its comeback season.\n",
        " The team has a significant fan following.\n",
        " In January 2022, CSK became India's first unicorn sports enterprise. As of 2022, it was the second most valuable IPL franchise with a valuation of $1.15 billion.\n",
        " '''\n"
      ],
      "metadata": {
        "id": "HJYkd4cJsvHH"
      },
      "execution_count": null,
      "outputs": []
    },
    {
      "cell_type": "code",
      "source": [
        "print(paragraph)"
      ],
      "metadata": {
        "colab": {
          "base_uri": "https://localhost:8080/"
        },
        "id": "p8De2Hcgtnse",
        "outputId": "15ad9af2-67f5-496d-c745-c51b53a392ab"
      },
      "execution_count": null,
      "outputs": [
        {
          "output_type": "stream",
          "name": "stdout",
          "text": [
            "\n",
            "Chennai Super Kings (CSK) is an Indian professional cricket franchise based in Chennai, Tamil Nadu.\n",
            "The team competes in the Indian Premier League (IPL) and was one of the eight franchises incorporated when the league was established in 2008. \n",
            "The team plays its home matches at the M. A. Chidambaram Stadium in Chennai and is owned by Chennai Super Kings Cricket Limited.\n",
            "Super Kings is the joint-most successful IPL franchise having won five IPL titles (shared with Mumbai Indians). \n",
            "In the IPL, they have appeared in a record 10 finals and qualified for the playoff stages 12 times out of the 14 seasons they have played, more than any other team.\n",
            " Super Kings have also won the Champions League Twenty20 twice in 2010 and 2014. \n",
            " The team is currently captained by Ruturaj Gaikwad and coached by Stephen Fleming.\n",
            " The team was suspended for two years from the IPL starting July 2015 due to the involvement of its owners in the 2013 IPL betting case. \n",
            " Super Kings re-joined IPL for the 2018 season and won the title in its comeback season. \n",
            " The team has a significant fan following. \n",
            " In January 2022, CSK became India's first unicorn sports enterprise. As of 2022, it was the second most valuable IPL franchise with a valuation of $1.15 billion.\n",
            " \n"
          ]
        }
      ]
    },
    {
      "cell_type": "code",
      "source": [
        "import nltk\n",
        "from nltk.stem import PorterStemmer\n",
        "from nltk.corpus import stopwords"
      ],
      "metadata": {
        "id": "cKZzoQbJtpke"
      },
      "execution_count": null,
      "outputs": []
    },
    {
      "cell_type": "markdown",
      "source": [
        "Tokenization : Converts paragraphs - sentences  - words"
      ],
      "metadata": {
        "id": "cQrfMOY3usXQ"
      }
    },
    {
      "cell_type": "code",
      "source": [
        "nltk.download('punkt')\n",
        "sentences = nltk.sent_tokenize(paragraph)"
      ],
      "metadata": {
        "colab": {
          "base_uri": "https://localhost:8080/"
        },
        "id": "6fYxOIjougUN",
        "outputId": "b5b2bb20-47b6-4e48-b124-49b0781252a9"
      },
      "execution_count": null,
      "outputs": [
        {
          "output_type": "stream",
          "name": "stderr",
          "text": [
            "[nltk_data] Downloading package punkt to /root/nltk_data...\n",
            "[nltk_data]   Package punkt is already up-to-date!\n"
          ]
        }
      ]
    },
    {
      "cell_type": "code",
      "source": [
        "sentences"
      ],
      "metadata": {
        "colab": {
          "base_uri": "https://localhost:8080/"
        },
        "id": "dPaVhhFyvQBY",
        "outputId": "9d276b5a-9c17-4edc-e2dc-5d13c104b979"
      },
      "execution_count": null,
      "outputs": [
        {
          "output_type": "execute_result",
          "data": {
            "text/plain": [
              "['\\nChennai Super Kings (CSK) is an Indian professional cricket franchise based in Chennai, Tamil Nadu.',\n",
              " 'The team competes in the Indian Premier League (IPL) and was one of the eight franchises incorporated when the league was established in 2008.',\n",
              " 'The team plays its home matches at the M. A. Chidambaram Stadium in Chennai and is owned by Chennai Super Kings Cricket Limited.',\n",
              " 'Super Kings is the joint-most successful IPL franchise having won five IPL titles (shared with Mumbai Indians).',\n",
              " 'In the IPL, they have appeared in a record 10 finals and qualified for the playoff stages 12 times out of the 14 seasons they have played, more than any other team.',\n",
              " 'Super Kings have also won the Champions League Twenty20 twice in 2010 and 2014.',\n",
              " 'The team is currently captained by Ruturaj Gaikwad and coached by Stephen Fleming.',\n",
              " 'The team was suspended for two years from the IPL starting July 2015 due to the involvement of its owners in the 2013 IPL betting case.',\n",
              " 'Super Kings re-joined IPL for the 2018 season and won the title in its comeback season.',\n",
              " 'The team has a significant fan following.',\n",
              " \"In January 2022, CSK became India's first unicorn sports enterprise.\",\n",
              " 'As of 2022, it was the second most valuable IPL franchise with a valuation of $1.15 billion.']"
            ]
          },
          "metadata": {},
          "execution_count": 74
        }
      ]
    },
    {
      "cell_type": "code",
      "source": [
        "sentences[-1]"
      ],
      "metadata": {
        "colab": {
          "base_uri": "https://localhost:8080/",
          "height": 35
        },
        "id": "YGTcH9PjvSWJ",
        "outputId": "c4a54b3d-fb14-4e5b-f9e8-43c7248f5239"
      },
      "execution_count": null,
      "outputs": [
        {
          "output_type": "execute_result",
          "data": {
            "text/plain": [
              "'As of 2022, it was the second most valuable IPL franchise with a valuation of $1.15 billion.'"
            ],
            "application/vnd.google.colaboratory.intrinsic+json": {
              "type": "string"
            }
          },
          "metadata": {},
          "execution_count": 75
        }
      ]
    },
    {
      "cell_type": "markdown",
      "source": [
        "Stemmization"
      ],
      "metadata": {
        "id": "UA5_-kzqwFMG"
      }
    },
    {
      "cell_type": "code",
      "source": [
        "stemmer = PorterStemmer()"
      ],
      "metadata": {
        "id": "wHDBKQPnvWGS"
      },
      "execution_count": null,
      "outputs": []
    },
    {
      "cell_type": "code",
      "source": [
        "stemmer.stem(\"writing\")"
      ],
      "metadata": {
        "colab": {
          "base_uri": "https://localhost:8080/",
          "height": 35
        },
        "id": "xzXLXDdfwNqd",
        "outputId": "5f72e228-bcdb-4ab5-a4ec-67f069a01281"
      },
      "execution_count": null,
      "outputs": [
        {
          "output_type": "execute_result",
          "data": {
            "text/plain": [
              "'write'"
            ],
            "application/vnd.google.colaboratory.intrinsic+json": {
              "type": "string"
            }
          },
          "metadata": {},
          "execution_count": 77
        }
      ]
    },
    {
      "cell_type": "code",
      "source": [
        "stemmer.stem(\"history\")"
      ],
      "metadata": {
        "colab": {
          "base_uri": "https://localhost:8080/",
          "height": 35
        },
        "id": "lLA8c2Wkx_Wp",
        "outputId": "aba79a4a-1081-497e-855d-9140154a7db9"
      },
      "execution_count": null,
      "outputs": [
        {
          "output_type": "execute_result",
          "data": {
            "text/plain": [
              "'histori'"
            ],
            "application/vnd.google.colaboratory.intrinsic+json": {
              "type": "string"
            }
          },
          "metadata": {},
          "execution_count": 78
        }
      ]
    },
    {
      "cell_type": "markdown",
      "source": [
        "Lemmatization\n",
        "\n",
        "It gives us proper meaning for the words"
      ],
      "metadata": {
        "id": "Dg51KZ_pwQ_s"
      }
    },
    {
      "cell_type": "code",
      "source": [
        "nltk.download(\"wordnet\")\n",
        "from nltk.stem import WordNetLemmatizer"
      ],
      "metadata": {
        "colab": {
          "base_uri": "https://localhost:8080/"
        },
        "id": "fmc44Z4ywU4U",
        "outputId": "31aac9fb-cd8f-41ba-f923-bdf5725b16a6"
      },
      "execution_count": null,
      "outputs": [
        {
          "output_type": "stream",
          "name": "stderr",
          "text": [
            "[nltk_data] Downloading package wordnet to /root/nltk_data...\n",
            "[nltk_data]   Package wordnet is already up-to-date!\n"
          ]
        }
      ]
    },
    {
      "cell_type": "code",
      "source": [
        "lemmatizer = WordNetLemmatizer()"
      ],
      "metadata": {
        "id": "PgOVHcwtw3-P"
      },
      "execution_count": null,
      "outputs": []
    },
    {
      "cell_type": "code",
      "source": [
        "lemmatizer.lemmatize(\"history\")"
      ],
      "metadata": {
        "colab": {
          "base_uri": "https://localhost:8080/",
          "height": 35
        },
        "id": "3mX1IzNtw_i2",
        "outputId": "04264d68-ef5c-40e3-92a6-7d11864c74e8"
      },
      "execution_count": null,
      "outputs": [
        {
          "output_type": "execute_result",
          "data": {
            "text/plain": [
              "'history'"
            ],
            "application/vnd.google.colaboratory.intrinsic+json": {
              "type": "string"
            }
          },
          "metadata": {},
          "execution_count": 81
        }
      ]
    },
    {
      "cell_type": "code",
      "source": [
        "lemmatizer.lemmatize(\"goes\")"
      ],
      "metadata": {
        "colab": {
          "base_uri": "https://localhost:8080/",
          "height": 35
        },
        "id": "0xwuU_ezxGj9",
        "outputId": "267119f7-7e6c-486c-d679-5177c6b20088"
      },
      "execution_count": null,
      "outputs": [
        {
          "output_type": "execute_result",
          "data": {
            "text/plain": [
              "'go'"
            ],
            "application/vnd.google.colaboratory.intrinsic+json": {
              "type": "string"
            }
          },
          "metadata": {},
          "execution_count": 82
        }
      ]
    },
    {
      "cell_type": "markdown",
      "source": [
        "#Cleaning the sentence"
      ],
      "metadata": {
        "id": "cbjIlVQgyNwh"
      }
    },
    {
      "cell_type": "code",
      "source": [
        "import re #Regular expression"
      ],
      "metadata": {
        "id": "ZS1YxZP2yuN6"
      },
      "execution_count": null,
      "outputs": []
    },
    {
      "cell_type": "code",
      "source": [
        "corpus = []\n",
        "for i in range(len(sentences)):\n",
        "  review = re.sub(\"[^a-zA-Z]\",\" \",sentences[i])\n",
        "  review = review.lower()\n",
        "  corpus.append(review)"
      ],
      "metadata": {
        "id": "Q_mEBV1Vyzxl"
      },
      "execution_count": null,
      "outputs": []
    },
    {
      "cell_type": "code",
      "source": [
        "corpus"
      ],
      "metadata": {
        "colab": {
          "base_uri": "https://localhost:8080/"
        },
        "id": "zo7VlNICzK8P",
        "outputId": "a7893083-7347-4c8f-835c-7df155ca8365"
      },
      "execution_count": null,
      "outputs": [
        {
          "output_type": "execute_result",
          "data": {
            "text/plain": [
              "[' chennai super kings  csk  is an indian professional cricket franchise based in chennai  tamil nadu ',\n",
              " 'the team competes in the indian premier league  ipl  and was one of the eight franchises incorporated when the league was established in      ',\n",
              " 'the team plays its home matches at the m  a  chidambaram stadium in chennai and is owned by chennai super kings cricket limited ',\n",
              " 'super kings is the joint most successful ipl franchise having won five ipl titles  shared with mumbai indians  ',\n",
              " 'in the ipl  they have appeared in a record    finals and qualified for the playoff stages    times out of the    seasons they have played  more than any other team ',\n",
              " 'super kings have also won the champions league twenty   twice in      and      ',\n",
              " 'the team is currently captained by ruturaj gaikwad and coached by stephen fleming ',\n",
              " 'the team was suspended for two years from the ipl starting july      due to the involvement of its owners in the      ipl betting case ',\n",
              " 'super kings re joined ipl for the      season and won the title in its comeback season ',\n",
              " 'the team has a significant fan following ',\n",
              " 'in january       csk became india s first unicorn sports enterprise ',\n",
              " 'as of       it was the second most valuable ipl franchise with a valuation of       billion ']"
            ]
          },
          "metadata": {},
          "execution_count": 85
        }
      ]
    },
    {
      "cell_type": "code",
      "source": [
        "import nltk\n",
        "from nltk.corpus import stopwords\n",
        "from nltk.tokenize import word_tokenize\n",
        "from nltk.stem import PorterStemmer\n",
        "nltk.download(\"stopwords\")"
      ],
      "metadata": {
        "colab": {
          "base_uri": "https://localhost:8080/"
        },
        "id": "qD94x-f10kBO",
        "outputId": "bb008fd3-4357-4bd9-9dbb-9862a8e89534"
      },
      "execution_count": null,
      "outputs": [
        {
          "output_type": "stream",
          "name": "stderr",
          "text": [
            "[nltk_data] Downloading package stopwords to /root/nltk_data...\n",
            "[nltk_data]   Package stopwords is already up-to-date!\n"
          ]
        },
        {
          "output_type": "execute_result",
          "data": {
            "text/plain": [
              "True"
            ]
          },
          "metadata": {},
          "execution_count": 86
        }
      ]
    },
    {
      "cell_type": "code",
      "source": [
        "#stemming\n",
        "for i in corpus:\n",
        "  words = nltk.word_tokenize(i)\n",
        "  for word in words:\n",
        "    if word not in set(stopwords.words(\"english\")):\n",
        "      print(stemmer.stem(word))"
      ],
      "metadata": {
        "colab": {
          "base_uri": "https://localhost:8080/"
        },
        "id": "QDe-HH1lzMIJ",
        "outputId": "59ff386f-6a23-428c-df53-1b5d85afbf0c"
      },
      "execution_count": null,
      "outputs": [
        {
          "output_type": "stream",
          "name": "stdout",
          "text": [
            "chennai\n",
            "super\n",
            "king\n",
            "csk\n",
            "indian\n",
            "profession\n",
            "cricket\n",
            "franchis\n",
            "base\n",
            "chennai\n",
            "tamil\n",
            "nadu\n",
            "team\n",
            "compet\n",
            "indian\n",
            "premier\n",
            "leagu\n",
            "ipl\n",
            "one\n",
            "eight\n",
            "franchis\n",
            "incorpor\n",
            "leagu\n",
            "establish\n",
            "team\n",
            "play\n",
            "home\n",
            "match\n",
            "chidambaram\n",
            "stadium\n",
            "chennai\n",
            "own\n",
            "chennai\n",
            "super\n",
            "king\n",
            "cricket\n",
            "limit\n",
            "super\n",
            "king\n",
            "joint\n",
            "success\n",
            "ipl\n",
            "franchis\n",
            "five\n",
            "ipl\n",
            "titl\n",
            "share\n",
            "mumbai\n",
            "indian\n",
            "ipl\n",
            "appear\n",
            "record\n",
            "final\n",
            "qualifi\n",
            "playoff\n",
            "stage\n",
            "time\n",
            "season\n",
            "play\n",
            "team\n",
            "super\n",
            "king\n",
            "also\n",
            "champion\n",
            "leagu\n",
            "twenti\n",
            "twice\n",
            "team\n",
            "current\n",
            "captain\n",
            "ruturaj\n",
            "gaikwad\n",
            "coach\n",
            "stephen\n",
            "fleme\n",
            "team\n",
            "suspend\n",
            "two\n",
            "year\n",
            "ipl\n",
            "start\n",
            "juli\n",
            "due\n",
            "involv\n",
            "owner\n",
            "ipl\n",
            "bet\n",
            "case\n",
            "super\n",
            "king\n",
            "join\n",
            "ipl\n",
            "season\n",
            "titl\n",
            "comeback\n",
            "season\n",
            "team\n",
            "signific\n",
            "fan\n",
            "follow\n",
            "januari\n",
            "csk\n",
            "becam\n",
            "india\n",
            "first\n",
            "unicorn\n",
            "sport\n",
            "enterpris\n",
            "second\n",
            "valuabl\n",
            "ipl\n",
            "franchis\n",
            "valuat\n",
            "billion\n"
          ]
        }
      ]
    },
    {
      "cell_type": "code",
      "source": [
        "#lemmatization\n",
        "for i in corpus:\n",
        "  words = nltk.word_tokenize(i)\n",
        "  for word in words:\n",
        "    if word not in set(stopwords.words(\"english\")):\n",
        "      print(lemmatizer.lemmatize(word))"
      ],
      "metadata": {
        "colab": {
          "base_uri": "https://localhost:8080/"
        },
        "id": "F8XnKi-b0dOD",
        "outputId": "02f3dcf5-99e9-4362-94f9-c5035671036c"
      },
      "execution_count": null,
      "outputs": [
        {
          "output_type": "stream",
          "name": "stdout",
          "text": [
            "chennai\n",
            "super\n",
            "king\n",
            "csk\n",
            "indian\n",
            "professional\n",
            "cricket\n",
            "franchise\n",
            "based\n",
            "chennai\n",
            "tamil\n",
            "nadu\n",
            "team\n",
            "competes\n",
            "indian\n",
            "premier\n",
            "league\n",
            "ipl\n",
            "one\n",
            "eight\n",
            "franchise\n",
            "incorporated\n",
            "league\n",
            "established\n",
            "team\n",
            "play\n",
            "home\n",
            "match\n",
            "chidambaram\n",
            "stadium\n",
            "chennai\n",
            "owned\n",
            "chennai\n",
            "super\n",
            "king\n",
            "cricket\n",
            "limited\n",
            "super\n",
            "king\n",
            "joint\n",
            "successful\n",
            "ipl\n",
            "franchise\n",
            "five\n",
            "ipl\n",
            "title\n",
            "shared\n",
            "mumbai\n",
            "indian\n",
            "ipl\n",
            "appeared\n",
            "record\n",
            "final\n",
            "qualified\n",
            "playoff\n",
            "stage\n",
            "time\n",
            "season\n",
            "played\n",
            "team\n",
            "super\n",
            "king\n",
            "also\n",
            "champion\n",
            "league\n",
            "twenty\n",
            "twice\n",
            "team\n",
            "currently\n",
            "captained\n",
            "ruturaj\n",
            "gaikwad\n",
            "coached\n",
            "stephen\n",
            "fleming\n",
            "team\n",
            "suspended\n",
            "two\n",
            "year\n",
            "ipl\n",
            "starting\n",
            "july\n",
            "due\n",
            "involvement\n",
            "owner\n",
            "ipl\n",
            "betting\n",
            "case\n",
            "super\n",
            "king\n",
            "joined\n",
            "ipl\n",
            "season\n",
            "title\n",
            "comeback\n",
            "season\n",
            "team\n",
            "significant\n",
            "fan\n",
            "following\n",
            "january\n",
            "csk\n",
            "became\n",
            "india\n",
            "first\n",
            "unicorn\n",
            "sport\n",
            "enterprise\n",
            "second\n",
            "valuable\n",
            "ipl\n",
            "franchise\n",
            "valuation\n",
            "billion\n"
          ]
        }
      ]
    },
    {
      "cell_type": "markdown",
      "source": [
        "#StopWords"
      ],
      "metadata": {
        "id": "QNchpNM62d8z"
      }
    },
    {
      "cell_type": "code",
      "source": [
        "from sklearn.feature_extraction.text import CountVectorizer\n",
        "cv = CountVectorizer()"
      ],
      "metadata": {
        "id": "oPT9AxVe1YK2"
      },
      "execution_count": null,
      "outputs": []
    },
    {
      "cell_type": "code",
      "source": [
        "x = cv.fit_transform(corpus)"
      ],
      "metadata": {
        "id": "4LTekxs413RT"
      },
      "execution_count": null,
      "outputs": []
    },
    {
      "cell_type": "code",
      "source": [
        "cv.vocabulary_"
      ],
      "metadata": {
        "colab": {
          "base_uri": "https://localhost:8080/"
        },
        "id": "9EfOge8K17TF",
        "outputId": "a347cb21-eeec-46f4-ce89-ada6cc12108e"
      },
      "execution_count": null,
      "outputs": [
        {
          "output_type": "execute_result",
          "data": {
            "text/plain": [
              "{'chennai': 15,\n",
              " 'super': 90,\n",
              " 'kings': 56,\n",
              " 'csk': 21,\n",
              " 'is': 49,\n",
              " 'an': 1,\n",
              " 'indian': 45,\n",
              " 'professional': 74,\n",
              " 'cricket': 20,\n",
              " 'franchise': 34,\n",
              " 'based': 7,\n",
              " 'in': 42,\n",
              " 'tamil': 92,\n",
              " 'nadu': 63,\n",
              " 'the': 95,\n",
              " 'team': 93,\n",
              " 'competes': 19,\n",
              " 'premier': 73,\n",
              " 'league': 57,\n",
              " 'ipl': 48,\n",
              " 'and': 2,\n",
              " 'was': 107,\n",
              " 'one': 65,\n",
              " 'of': 64,\n",
              " 'eight': 24,\n",
              " 'franchises': 35,\n",
              " 'incorporated': 43,\n",
              " 'when': 108,\n",
              " 'established': 26,\n",
              " 'plays': 72,\n",
              " 'its': 51,\n",
              " 'home': 41,\n",
              " 'matches': 59,\n",
              " 'at': 6,\n",
              " 'chidambaram': 16,\n",
              " 'stadium': 85,\n",
              " 'owned': 68,\n",
              " 'by': 11,\n",
              " 'limited': 58,\n",
              " 'joint': 54,\n",
              " 'most': 61,\n",
              " 'successful': 89,\n",
              " 'having': 40,\n",
              " 'won': 110,\n",
              " 'five': 30,\n",
              " 'titles': 99,\n",
              " 'shared': 82,\n",
              " 'with': 109,\n",
              " 'mumbai': 62,\n",
              " 'indians': 46,\n",
              " 'they': 96,\n",
              " 'have': 39,\n",
              " 'appeared': 4,\n",
              " 'record': 77,\n",
              " 'finals': 28,\n",
              " 'qualified': 75,\n",
              " 'for': 33,\n",
              " 'playoff': 71,\n",
              " 'stages': 86,\n",
              " 'times': 97,\n",
              " 'out': 67,\n",
              " 'seasons': 80,\n",
              " 'played': 70,\n",
              " 'more': 60,\n",
              " 'than': 94,\n",
              " 'any': 3,\n",
              " 'other': 66,\n",
              " 'also': 0,\n",
              " 'champions': 14,\n",
              " 'twenty': 101,\n",
              " 'twice': 102,\n",
              " 'currently': 22,\n",
              " 'captained': 12,\n",
              " 'ruturaj': 78,\n",
              " 'gaikwad': 37,\n",
              " 'coached': 17,\n",
              " 'stephen': 88,\n",
              " 'fleming': 31,\n",
              " 'suspended': 91,\n",
              " 'two': 103,\n",
              " 'years': 111,\n",
              " 'from': 36,\n",
              " 'starting': 87,\n",
              " 'july': 55,\n",
              " 'due': 23,\n",
              " 'to': 100,\n",
              " 'involvement': 47,\n",
              " 'owners': 69,\n",
              " 'betting': 9,\n",
              " 'case': 13,\n",
              " 're': 76,\n",
              " 'joined': 53,\n",
              " 'season': 79,\n",
              " 'title': 98,\n",
              " 'comeback': 18,\n",
              " 'has': 38,\n",
              " 'significant': 83,\n",
              " 'fan': 27,\n",
              " 'following': 32,\n",
              " 'january': 52,\n",
              " 'became': 8,\n",
              " 'india': 44,\n",
              " 'first': 29,\n",
              " 'unicorn': 104,\n",
              " 'sports': 84,\n",
              " 'enterprise': 25,\n",
              " 'as': 5,\n",
              " 'it': 50,\n",
              " 'second': 81,\n",
              " 'valuable': 105,\n",
              " 'valuation': 106,\n",
              " 'billion': 10}"
            ]
          },
          "metadata": {},
          "execution_count": 91
        }
      ]
    },
    {
      "cell_type": "code",
      "source": [
        "corpus[0]"
      ],
      "metadata": {
        "colab": {
          "base_uri": "https://localhost:8080/",
          "height": 35
        },
        "id": "T72ZSJqK188X",
        "outputId": "195d2f3a-7062-4553-b4ca-5542e899d8b4"
      },
      "execution_count": null,
      "outputs": [
        {
          "output_type": "execute_result",
          "data": {
            "text/plain": [
              "' chennai super kings  csk  is an indian professional cricket franchise based in chennai  tamil nadu '"
            ],
            "application/vnd.google.colaboratory.intrinsic+json": {
              "type": "string"
            }
          },
          "metadata": {},
          "execution_count": 92
        }
      ]
    },
    {
      "cell_type": "code",
      "source": [
        "x[0].toarray()"
      ],
      "metadata": {
        "colab": {
          "base_uri": "https://localhost:8080/"
        },
        "id": "aIyVVijR2Mtk",
        "outputId": "1b30df15-34e8-42dd-f597-14065823b0cd"
      },
      "execution_count": null,
      "outputs": [
        {
          "output_type": "execute_result",
          "data": {
            "text/plain": [
              "array([[0, 1, 0, 0, 0, 0, 0, 1, 0, 0, 0, 0, 0, 0, 0, 2, 0, 0, 0, 0, 1, 1,\n",
              "        0, 0, 0, 0, 0, 0, 0, 0, 0, 0, 0, 0, 1, 0, 0, 0, 0, 0, 0, 0, 1, 0,\n",
              "        0, 1, 0, 0, 0, 1, 0, 0, 0, 0, 0, 0, 1, 0, 0, 0, 0, 0, 0, 1, 0, 0,\n",
              "        0, 0, 0, 0, 0, 0, 0, 0, 1, 0, 0, 0, 0, 0, 0, 0, 0, 0, 0, 0, 0, 0,\n",
              "        0, 0, 1, 0, 1, 0, 0, 0, 0, 0, 0, 0, 0, 0, 0, 0, 0, 0, 0, 0, 0, 0,\n",
              "        0, 0]])"
            ]
          },
          "metadata": {},
          "execution_count": 93
        }
      ]
    },
    {
      "cell_type": "code",
      "source": [],
      "metadata": {
        "id": "_m7xPswh2OzG"
      },
      "execution_count": null,
      "outputs": []
    }
  ]
}