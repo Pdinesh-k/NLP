{
  "nbformat": 4,
  "nbformat_minor": 0,
  "metadata": {
    "colab": {
      "provenance": []
    },
    "kernelspec": {
      "name": "python3",
      "display_name": "Python 3"
    },
    "language_info": {
      "name": "python"
    }
  },
  "cells": [
    {
      "cell_type": "code",
      "execution_count": 1,
      "metadata": {
        "id": "6QG78-r3LGwk"
      },
      "outputs": [],
      "source": [
        "import re"
      ]
    },
    {
      "cell_type": "markdown",
      "source": [
        "Removing special characters"
      ],
      "metadata": {
        "id": "7h3YE9hQLKVq"
      }
    },
    {
      "cell_type": "code",
      "source": [
        "text = \"Hello! This is CDK. How are you?, I'm doing great here\"\n",
        "clean_text = re.sub(r'[^a-zA-Z\\s]',\"\",text)\n",
        "print(clean_text)"
      ],
      "metadata": {
        "colab": {
          "base_uri": "https://localhost:8080/"
        },
        "id": "ywlvZZDsLYDY",
        "outputId": "665d1c9b-cf7c-4071-ecc2-2132faa8e66f"
      },
      "execution_count": 6,
      "outputs": [
        {
          "output_type": "stream",
          "name": "stdout",
          "text": [
            "Hello This is CDK How are you Im doing great here\n"
          ]
        }
      ]
    },
    {
      "cell_type": "markdown",
      "source": [
        "Removing extra whiteSpaces"
      ],
      "metadata": {
        "id": "lnzBQfd4LpOj"
      }
    },
    {
      "cell_type": "code",
      "source": [
        "text = \"This   line has   extra  spaces\"\n",
        "clean_text = re.sub(r'\\s+',\" \",text)\n",
        "print(clean_text)"
      ],
      "metadata": {
        "colab": {
          "base_uri": "https://localhost:8080/"
        },
        "id": "ezcDbZzTMBoy",
        "outputId": "e76f6cda-e003-4ed6-f4ca-114a3779ed30"
      },
      "execution_count": 14,
      "outputs": [
        {
          "output_type": "stream",
          "name": "stdout",
          "text": [
            "This line has extra spaces\n"
          ]
        }
      ]
    },
    {
      "cell_type": "markdown",
      "source": [
        "Ensuring correct email Formats"
      ],
      "metadata": {
        "id": "qESi1z9WMemv"
      }
    },
    {
      "cell_type": "code",
      "source": [
        "text = \"cattykittian@gmail.com , this is email : 1223@gmail.com\"\n",
        "clean_text = re.findall(r'\\b[a-zA-Z0-9]+@[A-Za-z0-9.-]+\\.[A-Z|a-z]{2,}\\b',text)\n",
        "print(clean_text)"
      ],
      "metadata": {
        "colab": {
          "base_uri": "https://localhost:8080/"
        },
        "id": "7jpVC649PfcY",
        "outputId": "06eb0960-ed34-48cd-8356-818fcd216a6c"
      },
      "execution_count": 21,
      "outputs": [
        {
          "output_type": "stream",
          "name": "stdout",
          "text": [
            "['cattykittian@gmail.com', '1223@gmail.com']\n"
          ]
        }
      ]
    },
    {
      "cell_type": "markdown",
      "source": [
        "Removing HTML Tags"
      ],
      "metadata": {
        "id": "RdSS9R5BPwqY"
      }
    },
    {
      "cell_type": "code",
      "source": [
        "text = \"<p>This is a paragraph</p>\"\n",
        "clean_text = re.sub(r'<[^<]+>',\"\",text)\n",
        "print(clean_text)"
      ],
      "metadata": {
        "colab": {
          "base_uri": "https://localhost:8080/"
        },
        "id": "kM9ykdHSRp96",
        "outputId": "f14ce12d-57cd-4b78-f351-baf1894fc333"
      },
      "execution_count": 22,
      "outputs": [
        {
          "output_type": "stream",
          "name": "stdout",
          "text": [
            "This is a paragraph\n"
          ]
        }
      ]
    },
    {
      "cell_type": "code",
      "source": [],
      "metadata": {
        "id": "B9YV3LMnRv1_"
      },
      "execution_count": null,
      "outputs": []
    }
  ]
}